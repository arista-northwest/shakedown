{
 "cells": [
  {
   "cell_type": "code",
   "execution_count": null,
   "metadata": {},
   "outputs": [],
   "source": [
    "import eapi"
   ]
  },
  {
   "cell_type": "code",
   "execution_count": null,
   "metadata": {},
   "outputs": [],
   "source": [
    "conn = eapi.Session(\"veos-4.lab.lan\", auth=(\"admin\", \"\"))"
   ]
  },
  {
   "cell_type": "code",
   "execution_count": null,
   "metadata": {},
   "outputs": [],
   "source": [
    "conn.execute([\"show hostname\"]).output"
   ]
  },
  {
   "cell_type": "code",
   "execution_count": null,
   "metadata": {},
   "outputs": [],
   "source": [
    "# check the underlying session for a Session id\n",
    "print(\"SESSION:\", conn._session.cookies.get(\"Session\", \"No Session\"))"
   ]
  },
  {
   "cell_type": "code",
   "execution_count": null,
   "metadata": {},
   "outputs": [],
   "source": [
    "conn.login()"
   ]
  },
  {
   "cell_type": "code",
   "execution_count": null,
   "metadata": {},
   "outputs": [],
   "source": [
    "# try again... check the underlying session for a Session id\n",
    "print(\"SESSION:\", conn._session.cookies.get(\"Session\", \"No Session\"))"
   ]
  },
  {
   "cell_type": "code",
   "execution_count": null,
   "metadata": {},
   "outputs": [],
   "source": [
    "with eapi.Session(\"veos-4.lab.lan\", auth=(\"admin\", \"\")) as conn:\n",
    "    print(\"SESSION:\", conn._session.cookies.get(\"Session\", \"No Session\"))\n",
    "    print(conn.execute([\"show hostname\"]).output[0])"
   ]
  },
  {
   "cell_type": "code",
   "execution_count": null,
   "metadata": {
    "scrolled": true
   },
   "outputs": [],
   "source": [
    "CA_CERT = \"/home/vagrant/ca/intermediate/certs/ca-chain.cert.pem\"\n",
    "CLIENT_CERT = \"/home/vagrant/ca/intermediate/certs/admin@lab.lan.cert.pem\"\n",
    "CLIENT_KEY = \"/home/vagrant/ca/intermediate/private/admin@lab.lan.key.pem\""
   ]
  },
  {
   "cell_type": "code",
   "execution_count": null,
   "metadata": {},
   "outputs": [],
   "source": [
    "conn = eapi.Session(\"veos-4.lab.lan\", transport=\"https\", \n",
    "                    verify=CA_CERT, cert=(CLIENT_CERT, CLIENT_KEY))"
   ]
  },
  {
   "cell_type": "code",
   "execution_count": null,
   "metadata": {},
   "outputs": [],
   "source": [
    "conn.execute([\"show version\", \"show interfaces\"]).output"
   ]
  },
  {
   "cell_type": "code",
   "execution_count": null,
   "metadata": {},
   "outputs": [],
   "source": [
    "print(conn.execute([\"show running-config section management api\"], encoding=\"text\").output[0])"
   ]
  },
  {
   "cell_type": "code",
   "execution_count": null,
   "metadata": {},
   "outputs": [],
   "source": [
    "print(conn.execute([\"bash timeout 30 ps -ef | grep Rib\"]).output[0][\"messages\"][0])"
   ]
  },
  {
   "cell_type": "code",
   "execution_count": null,
   "metadata": {},
   "outputs": [],
   "source": [
    "resp = conn.execute([\"show bogus\"])\n",
    "resp.raise_for_error()"
   ]
  },
  {
   "cell_type": "code",
   "execution_count": null,
   "metadata": {},
   "outputs": [],
   "source": [
    "conn.execute([\"configure\", \"interface Ethernet1\", \"description Test Descr\"]).output"
   ]
  },
  {
   "cell_type": "code",
   "execution_count": null,
   "metadata": {},
   "outputs": [],
   "source": [
    "resp = conn.execute([\"show interfaces Ethernet1\"])\n",
    "resp.output[0][\"interfaces\"][\"Ethernet1\"]"
   ]
  },
  {
   "cell_type": "code",
   "execution_count": null,
   "metadata": {},
   "outputs": [],
   "source": []
  }
 ],
 "metadata": {
  "kernelspec": {
   "display_name": "Python 3",
   "language": "python",
   "name": "python3"
  },
  "language_info": {
   "codemirror_mode": {
    "name": "ipython",
    "version": 3
   },
   "file_extension": ".py",
   "mimetype": "text/x-python",
   "name": "python",
   "nbconvert_exporter": "python",
   "pygments_lexer": "ipython3",
   "version": "3.6.5"
  }
 },
 "nbformat": 4,
 "nbformat_minor": 2
}
