{
 "cells": [
  {
   "cell_type": "code",
   "execution_count": 1,
   "metadata": {},
   "outputs": [],
   "source": [
    "from shakedown.scout import api as scout\n",
    "from shakedown.config import config"
   ]
  },
  {
   "cell_type": "code",
   "execution_count": 13,
   "metadata": {},
   "outputs": [
    {
     "name": "stdout",
     "output_type": "stream",
     "text": [
      "connections:\n",
      "  veos-2:\n",
      "    creds: [admin, '']\n",
      "    protocol: eapi+http\n",
      "    tags: [dut, tor]\n",
      "  veos-3:\n",
      "    creds: [admin, '']\n",
      "    tags: [sdut, csp]\n",
      "settings: {auto_rollback: true, raise_on_error: true}\n",
      "tests:\n",
      "  basics: {software_version: 4.20.5F}\n",
      "  downgrade: {testrail_case_id: C12345}\n",
      "  ntp:\n",
      "    servers: [192.168.56.10]\n",
      "vars: {vrf: management}\n",
      "\n"
     ]
    }
   ],
   "source": [
    "config.load(\"../config.yml\")\n",
    "print(config.to_yaml())"
   ]
  },
  {
   "cell_type": "code",
   "execution_count": 3,
   "metadata": {},
   "outputs": [],
   "source": [
    "scout.gather()"
   ]
  },
  {
   "cell_type": "code",
   "execution_count": 11,
   "metadata": {
    "scrolled": false
   },
   "outputs": [
    {
     "data": {
      "text/plain": [
       "[{'_dut': 'veos-2',\n",
       "  '_timestamp': 1532628033,\n",
       "  'name': 'Ethernet1',\n",
       "  'short': 'Et1',\n",
       "  'kernel': 'et1',\n",
       "  'mode': 'bridged',\n",
       "  'vlan': 1,\n",
       "  'bandwidth': 0,\n",
       "  'description': '',\n",
       "  'link_status': 'connected',\n",
       "  'protocol_status': 'up',\n",
       "  'primary_ip': '0.0.0.0',\n",
       "  'primary_masklen': 0,\n",
       "  'primary_network': '0.0.0.0',\n",
       "  'mtu': -1,\n",
       "  'vrf': '',\n",
       "  '_id': 'cab903aa90fd11e8a0680242ac130003'}]"
      ]
     },
     "execution_count": 11,
     "metadata": {},
     "output_type": "execute_result"
    }
   ],
   "source": [
    "scout.find(\"interfaces.status\", \".*\", {\"vrf\": {\"$regex\": \"^$\"}})"
   ]
  },
  {
   "cell_type": "code",
   "execution_count": 5,
   "metadata": {
    "scrolled": false
   },
   "outputs": [
    {
     "data": {
      "text/plain": [
       "[{'_dut': 'veos-3',\n",
       "  '_timestamp': 1532628033,\n",
       "  'vrf': 'default',\n",
       "  'asn': 65512,\n",
       "  'router_id': '10.0.0.3',\n",
       "  '_id': 'cabca88490fd11e8a0680242ac130003'},\n",
       " {'_dut': 'veos-2',\n",
       "  '_timestamp': 1532628033,\n",
       "  'vrf': 'default',\n",
       "  'asn': 65512,\n",
       "  'router_id': '10.0.0.2',\n",
       "  '_id': 'cabcb1d090fd11e8a0680242ac130003'}]"
      ]
     },
     "execution_count": 5,
     "metadata": {},
     "output_type": "execute_result"
    }
   ],
   "source": [
    "scout.find(\"bgp.summary\", \"veos-.\")"
   ]
  },
  {
   "cell_type": "code",
   "execution_count": 6,
   "metadata": {},
   "outputs": [
    {
     "data": {
      "text/plain": [
       "[{'_dut': 'veos-3',\n",
       "  '_timestamp': 1532628033,\n",
       "  'vrf': 'default',\n",
       "  'asn': 65512,\n",
       "  'router_id': '10.0.0.3',\n",
       "  '_id': 'cabca88490fd11e8a0680242ac130003'},\n",
       " {'_dut': 'veos-2',\n",
       "  '_timestamp': 1532628033,\n",
       "  'vrf': 'default',\n",
       "  'asn': 65512,\n",
       "  'router_id': '10.0.0.2',\n",
       "  '_id': 'cabcb1d090fd11e8a0680242ac130003'}]"
      ]
     },
     "execution_count": 6,
     "metadata": {},
     "output_type": "execute_result"
    }
   ],
   "source": [
    "scout.find(\"bgp.summary\", \"veos-.\", {\"router_id\": {\"$in\": [\"10.0.0.2\", \"10.0.0.3\"]}})"
   ]
  },
  {
   "cell_type": "code",
   "execution_count": 7,
   "metadata": {},
   "outputs": [
    {
     "data": {
      "text/plain": [
       "[{'_dut': 'veos-3',\n",
       "  '_timestamp': 1532628033,\n",
       "  'vrf': 'default',\n",
       "  'type': 'internal',\n",
       "  'peer': '10.0.23.0',\n",
       "  'local_asn': 65512,\n",
       "  'local_router_id': '10.0.0.3',\n",
       "  'asn': 65512,\n",
       "  'router_id': '10.0.0.2',\n",
       "  'interface': 'et1',\n",
       "  'group': 'CORE',\n",
       "  'update_source': '10.0.23.1',\n",
       "  'state': 'Established',\n",
       "  '_id': 'cac1de8090fd11e8a0680242ac130003'},\n",
       " {'_dut': 'veos-3',\n",
       "  '_timestamp': 1532628033,\n",
       "  'vrf': 'default',\n",
       "  'type': 'internal',\n",
       "  'peer': '10.0.34.0',\n",
       "  'local_asn': 65512,\n",
       "  'local_router_id': '10.0.0.3',\n",
       "  'asn': 65512,\n",
       "  'router_id': '0.0.0.0',\n",
       "  'interface': '',\n",
       "  'group': 'CORE',\n",
       "  'update_source': None,\n",
       "  'state': 'Active',\n",
       "  '_id': 'cac2038890fd11e8a0680242ac130003'},\n",
       " {'_dut': 'veos-2',\n",
       "  '_timestamp': 1532628033,\n",
       "  'vrf': 'default',\n",
       "  'type': 'internal',\n",
       "  'peer': '10.0.23.1',\n",
       "  'local_asn': 65512,\n",
       "  'local_router_id': '10.0.0.2',\n",
       "  'asn': 65512,\n",
       "  'router_id': '10.0.0.3',\n",
       "  'interface': 'et2',\n",
       "  'group': 'CORE',\n",
       "  'update_source': '10.0.23.0',\n",
       "  'state': 'Established',\n",
       "  '_id': 'cac21ed690fd11e8a0680242ac130003'}]"
      ]
     },
     "execution_count": 7,
     "metadata": {},
     "output_type": "execute_result"
    }
   ],
   "source": [
    "scout.find(\"bgp.peers\", \"veos-.\")"
   ]
  },
  {
   "cell_type": "code",
   "execution_count": 14,
   "metadata": {},
   "outputs": [],
   "source": [
    "import json"
   ]
  },
  {
   "cell_type": "code",
   "execution_count": 16,
   "metadata": {},
   "outputs": [
    {
     "data": {
      "text/plain": [
       "{'name': 'Ethernet1'}"
      ]
     },
     "execution_count": 16,
     "metadata": {},
     "output_type": "execute_result"
    }
   ],
   "source": [
    "json.loads('{\"name\": \"Ethernet1\"}')"
   ]
  },
  {
   "cell_type": "code",
   "execution_count": null,
   "metadata": {},
   "outputs": [],
   "source": []
  },
  {
   "cell_type": "code",
   "execution_count": null,
   "metadata": {},
   "outputs": [],
   "source": []
  }
 ],
 "metadata": {
  "kernelspec": {
   "display_name": "Python 3",
   "language": "python",
   "name": "python3"
  },
  "language_info": {
   "codemirror_mode": {
    "name": "ipython",
    "version": 3
   },
   "file_extension": ".py",
   "mimetype": "text/x-python",
   "name": "python",
   "nbconvert_exporter": "python",
   "pygments_lexer": "ipython3",
   "version": "3.6.5"
  }
 },
 "nbformat": 4,
 "nbformat_minor": 2
}
