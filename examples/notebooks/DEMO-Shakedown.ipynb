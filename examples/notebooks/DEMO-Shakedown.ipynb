{
 "cells": [
  {
   "cell_type": "markdown",
   "metadata": {},
   "source": [
    "# Shakedown IPython Demo"
   ]
  },
  {
   "cell_type": "markdown",
   "metadata": {},
   "source": [
    "## Load, override and show config"
   ]
  },
  {
   "cell_type": "code",
   "execution_count": 1,
   "metadata": {},
   "outputs": [
    {
     "name": "stdout",
     "output_type": "stream",
     "text": [
      "connections:\n",
      "  veos-2:\n",
      "    creds: [admin, '']\n",
      "    protocol: eapi+http\n",
      "    tags: [dut, tor]\n",
      "  veos-3:\n",
      "    creds: [admin, '']\n",
      "    tags: [sdut, csp]\n",
      "settings: {auto_rollback: true, raise_on_error: true}\n",
      "tests:\n",
      "  basics: {software_version: 4.20.5F}\n",
      "  downgrade: {testrail_case_id: C12345}\n",
      "  ntp:\n",
      "    servers: [192.168.56.10]\n",
      "vars:\n",
      "  interfaces: [Et1 - 2]\n",
      "  vrf: management\n"
     ]
    }
   ],
   "source": [
    "%%sdconfig --show ../config.yml\n",
    "vars:\n",
    "  interfaces: [\"Et1 - 2\"]"
   ]
  },
  {
   "cell_type": "markdown",
   "metadata": {},
   "source": [
    "## Send commands to DUTs"
   ]
  },
  {
   "cell_type": "markdown",
   "metadata": {},
   "source": [
    "### Regex hostname filter"
   ]
  },
  {
   "cell_type": "code",
   "execution_count": 2,
   "metadata": {
    "scrolled": false
   },
   "outputs": [
    {
     "name": "stdout",
     "output_type": "stream",
     "text": [
      "host: veos-3\n",
      "status: ok\n",
      "commands:\n",
      "  - command: {'cmd': 'show hostname', 'input': ''}\n",
      "    status: ok\n",
      "    output: |\n",
      "      Hostname: veos-3\n",
      "      FQDN:     veos-3\n",
      "host: veos-2\n",
      "status: ok\n",
      "commands:\n",
      "  - command: {'cmd': 'show hostname', 'input': ''}\n",
      "    status: ok\n",
      "    output: |\n",
      "      Hostname: veos-2\n",
      "      FQDN:     veos-2\n"
     ]
    }
   ],
   "source": [
    "%%sdsend veos-.\n",
    "show hostname"
   ]
  },
  {
   "cell_type": "markdown",
   "metadata": {},
   "source": [
    "### Filter by tags"
   ]
  },
  {
   "cell_type": "code",
   "execution_count": 3,
   "metadata": {},
   "outputs": [
    {
     "name": "stdout",
     "output_type": "stream",
     "text": [
      "host: veos-2\n",
      "status: ok\n",
      "commands:\n",
      "  - command: {'cmd': 'show ip interface brief', 'input': ''}\n",
      "    status: ok\n",
      "    output: |\n",
      "      Interface              IP Address         Status     Protocol         MTU\n",
      "      Ethernet2              10.0.23.0/31       up         up              1500\n",
      "      Loopback0              10.0.0.2/32        up         up             65535\n",
      "      Management1            192.168.56.12/24   up         up              1500\n",
      "host: veos-3\n",
      "status: ok\n",
      "commands:\n",
      "  - command: {'cmd': 'show ip interface brief', 'input': ''}\n",
      "    status: ok\n",
      "    output: |\n",
      "      Interface              IP Address         Status     Protocol         MTU\n",
      "      Ethernet1              10.0.23.1/31       up         up              1500\n",
      "      Ethernet2              10.0.34.0/31       up         up              1500\n",
      "      Ethernet3              unassigned         admin down down            1500\n",
      "      Loopback0              10.0.0.3/32        up         up             65535\n",
      "      Management1            192.168.56.13/24   up         up              1500\n"
     ]
    }
   ],
   "source": [
    "%%sdsend csp tor\n",
    "show ip interface brief"
   ]
  },
  {
   "cell_type": "markdown",
   "metadata": {},
   "source": [
    "## Access session from Python"
   ]
  },
  {
   "cell_type": "code",
   "execution_count": null,
   "metadata": {},
   "outputs": [],
   "source": [
    "for resp in _sdsessions.send(\".*\", \"show version\"):\n",
    "    print(resp)"
   ]
  },
  {
   "cell_type": "markdown",
   "metadata": {},
   "source": [
    "## Jinja templates are supported"
   ]
  },
  {
   "cell_type": "code",
   "execution_count": null,
   "metadata": {},
   "outputs": [],
   "source": [
    "%%sdsend .*\n",
    "{% for intf in vars.interfaces %}\n",
    "show interfaces {{intf}} status\n",
    "{% endfor %}"
   ]
  },
  {
   "cell_type": "markdown",
   "metadata": {},
   "source": [
    "## Run bash commands on switch..."
   ]
  },
  {
   "cell_type": "code",
   "execution_count": null,
   "metadata": {},
   "outputs": [],
   "source": [
    "%%sdsend dut\n",
    "bash timeout 5 ps -ef | grep Sand"
   ]
  },
  {
   "cell_type": "markdown",
   "metadata": {},
   "source": [
    "## Write output to file"
   ]
  },
  {
   "cell_type": "code",
   "execution_count": null,
   "metadata": {},
   "outputs": [],
   "source": [
    "%%sdsend dut -o clock.txt\n",
    "show clock"
   ]
  }
 ],
 "metadata": {
  "kernelspec": {
   "display_name": "Python 3",
   "language": "python",
   "name": "python3"
  },
  "language_info": {
   "codemirror_mode": {
    "name": "ipython",
    "version": 3
   },
   "file_extension": ".py",
   "mimetype": "text/x-python",
   "name": "python",
   "nbconvert_exporter": "python",
   "pygments_lexer": "ipython3",
   "version": "3.6.5"
  }
 },
 "nbformat": 4,
 "nbformat_minor": 2
}
