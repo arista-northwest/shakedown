{
 "cells": [
  {
   "cell_type": "code",
   "execution_count": 1,
   "metadata": {
    "collapsed": false
   },
   "outputs": [],
   "source": [
    "# This is only needed for development\n",
    "%reload_ext shakedown.ipython.magics"
   ]
  },
  {
   "cell_type": "code",
   "execution_count": 2,
   "metadata": {
    "collapsed": false
   },
   "outputs": [],
   "source": [
    "%%sdconfig\n",
    "interfaces:\n",
    "    - Ethernet10/1\n",
    "    - Ethernet11/1\n",
    "    - Ethernet12/1\n",
    "    - Ethernet13/1\n",
    "    - Ethernet14/1\n",
    "duts:\n",
    "  - hostname: ck214.sjc.aristanetworks.com\n",
    "    username: admin\n",
    "    password: none\n",
    "    tags: [dut, tor, poda]\n",
    "  - hostname: ck325.sjc.aristanetworks.com\n",
    "    username: admin\n",
    "    password: none\n",
    "    tags: [csp, poda]"
   ]
  },
  {
   "cell_type": "code",
   "execution_count": 3,
   "metadata": {
    "collapsed": false
   },
   "outputs": [],
   "source": [
    "%sdconnect --clear --section duts"
   ]
  },
  {
   "cell_type": "code",
   "execution_count": 4,
   "metadata": {
    "collapsed": false
   },
   "outputs": [
    {
     "name": "stdout",
     "output_type": "stream",
     "text": [
      "host: ck214.sjc.aristanetworks.com\n",
      "status: ok\n",
      "commands:\n",
      "  - command: show version\n",
      "    output: |\n",
      "      Arista DCS-7050QX-32S-F\n",
      "      Hardware version:    01.10\n",
      "      Serial number:       JPE14170543\n",
      "      System MAC address:  001c.737b.5357\n",
      "      \n",
      "      Software image version: 4.16.7M-L2EVPN\n",
      "      Architecture:           i386\n",
      "      Internal build version: 4.16.7M-L2EVPN-3413524.4167ML2EVPN\n",
      "      Internal build ID:      5feeb941-9cdd-4a1e-9699-0df40a518df6\n",
      "      \n",
      "      Uptime:                 2 days, 12 hours and 6 minutes\n",
      "      Total memory:           3584260 kB\n",
      "      Free memory:            104736 kB\n",
      "      \n",
      "host: ck325.sjc.aristanetworks.com\n",
      "status: ok\n",
      "commands:\n",
      "  - command: show version\n",
      "    output: |\n",
      "      Arista DCS-7050QX-32S-F\n",
      "      Hardware version:    01.10\n",
      "      Serial number:       JPE14332885\n",
      "      System MAC address:  001c.737c.ca1b\n",
      "      \n",
      "      Software image version: 4.17.2F\n",
      "      Architecture:           i386\n",
      "      Internal build version: 4.17.2F-3696283.4172F\n",
      "      Internal build ID:      08f7e0b5-5ea2-41d2-87bf-1c02d5ab1da7\n",
      "      \n",
      "      Uptime:                 2 days, 12 hours and 6 minutes\n",
      "      Total memory:           3538144 kB\n",
      "      Free memory:            650644 kB\n",
      "      \n"
     ]
    }
   ],
   "source": [
    "%%sdsend poda\n",
    "show version"
   ]
  },
  {
   "cell_type": "markdown",
   "metadata": {},
   "source": [
    "### Jinja Templates"
   ]
  },
  {
   "cell_type": "code",
   "execution_count": 5,
   "metadata": {
    "collapsed": false
   },
   "outputs": [
    {
     "name": "stdout",
     "output_type": "stream",
     "text": [
      "host: ck214.sjc.aristanetworks.com\n",
      "status: ok\n",
      "commands:\n",
      "  - command: configure\n",
      "    output: |\n",
      "\n",
      "  - command: interface Ethernet10/1\n",
      "    output: |\n",
      "\n",
      "  - command: show active\n",
      "    output: |\n",
      "      interface Ethernet10/1\n",
      "         speed forced 40gfull\n",
      "  - command: interface Ethernet11/1\n",
      "    output: |\n",
      "\n",
      "  - command: show active\n",
      "    output: |\n",
      "      interface Ethernet11/1\n",
      "         speed forced 40gfull\n",
      "  - command: interface Ethernet12/1\n",
      "    output: |\n",
      "\n",
      "  - command: show active\n",
      "    output: |\n",
      "      interface Ethernet12/1\n",
      "         speed forced 40gfull\n",
      "  - command: interface Ethernet13/1\n",
      "    output: |\n",
      "\n",
      "  - command: show active\n",
      "    output: |\n",
      "      interface Ethernet13/1\n",
      "         speed forced 40gfull\n",
      "  - command: interface Ethernet14/1\n",
      "    output: |\n",
      "\n",
      "  - command: show active\n",
      "    output: |\n",
      "      interface Ethernet14/1\n",
      "         speed forced 40gfull\n"
     ]
    }
   ],
   "source": [
    "%%sdsend tor\n",
    "configure\n",
    "{% for intf in interfaces %}\n",
    "interface {{intf}}\n",
    "show active\n",
    "{% endfor %}"
   ]
  },
  {
   "cell_type": "markdown",
   "metadata": {},
   "source": [
    "### Check for patterns in output"
   ]
  },
  {
   "cell_type": "code",
   "execution_count": 6,
   "metadata": {
    "collapsed": false
   },
   "outputs": [
    {
     "name": "stdout",
     "output_type": "stream",
     "text": [
      "host: ck214.sjc.aristanetworks.com\n",
      "status: ok\n",
      "commands:\n",
      "  - command: show ip bgp summary\n",
      "    output: |\n",
      "      BGP summary information for VRF default\n",
      "      Router identifier 200.1.1.1, local AS number 65002\n",
      "      Neighbor Status Codes: m - Under maintenance\n",
      "        Neighbor         V  AS           MsgRcvd   MsgSent  InQ OutQ  Up/Down State  PfxRcd PfxAcc\n",
      "        99.1.1.1         4  65001              2         3    0    0 20:12:52 Connect        \n",
      "        170.0.0.3        4  64610            657      1272    0    0 20:12:52 Connect        \n",
      "        170.1.0.3        4  64610          10848      1607    0    0 19:19:55 Estab  223    223\n",
      "        170.2.0.3        4  64610            503       997    0    0 20:12:52 Connect        \n",
      "        170.3.0.3        4  64610            501       997    0    0 20:12:52 Connect        \n",
      "        198.18.10.2      4  64510              0         0    0    0 20:12:52 Idle(NoIf)        \n",
      "host: ck325.sjc.aristanetworks.com\n",
      "status: ok\n",
      "commands:\n",
      "  - command: show ip bgp summary\n",
      "    output: |\n",
      "      BGP summary information for VRF default\n",
      "      Router identifier 171.0.0.1, local AS number 64610\n",
      "      Neighbor Status Codes: m - Under maintenance\n",
      "        Neighbor         V  AS           MsgRcvd   MsgSent  InQ OutQ  Up/Down State  PfxRcd PfxAcc\n",
      "        169.1.0.0        4  64911           1446      1373    0    0 19:20:10 Estab  107    107\n",
      "        169.1.0.2        4  64911           1422      1509    0    0 19:20:07 Estab  107    107\n",
      "        169.1.0.4        4  64911           1416      1527    0    0 19:20:03 Estab  107    107\n",
      "        169.1.0.6        4  64911           1436      1526    0    0 19:20:10 Estab  107    107\n",
      "        169.1.0.8        4  64911           1421      1500    0    0 19:20:07 Estab  107    107\n",
      "        169.1.0.10       4  64911           1419      1504    0    0 19:20:03 Estab  107    107\n",
      "        169.1.0.12       4  64911           1435      1526    0    0 19:20:10 Estab  107    107\n",
      "        169.1.0.14       4  64911           1420      1515    0    0 19:20:07 Estab  107    107\n",
      "        169.2.0.0        4  65534           1442      1373    0    0 19:20:01 Estab  119    119\n",
      "        169.2.0.2        4  65534           1460      1406    0    0 19:20:10 Estab  119    119\n",
      "        169.2.0.4        4  65534           1478      1386    0    0 19:20:07 Estab  119    119\n",
      "        169.2.0.6        4  65534           1447      1374    0    0 19:20:01 Estab  119    119\n",
      "        169.2.0.8        4  65534           1474      1410    0    0 19:20:10 Estab  119    119\n",
      "        169.2.0.10       4  65534           1454      1386    0    0 19:20:07 Estab  119    119\n",
      "        169.2.0.12       4  65534           1417      1376    0    0 19:20:02 Estab  119    119\n",
      "        169.2.0.14       4  65534           1465      1408    0    0 19:20:10 Estab  119    119\n",
      "        170.0.0.0        4  65001              0         0    0    0 19:20:12 Idle(NoIf)        \n",
      "        170.0.0.2        4  65001            477       954    0    0 19:20:12 Active        \n"
     ]
    }
   ],
   "source": [
    "%%sdsend poda -t Estab\n",
    "show ip bgp summary"
   ]
  },
  {
   "cell_type": "code",
   "execution_count": 7,
   "metadata": {
    "collapsed": false
   },
   "outputs": [
    {
     "name": "stderr",
     "output_type": "stream",
     "text": [
      "Response did not match any patterns"
     ]
    },
    {
     "name": "stdout",
     "output_type": "stream",
     "text": [
      "host: ck214.sjc.aristanetworks.com\n",
      "status: ok\n",
      "commands:\n",
      "  - command: show ip bgp summary\n",
      "    output: |\n",
      "      BGP summary information for VRF default\n",
      "      Router identifier 200.1.1.1, local AS number 65002\n",
      "      Neighbor Status Codes: m - Under maintenance\n",
      "        Neighbor         V  AS           MsgRcvd   MsgSent  InQ OutQ  Up/Down State  PfxRcd PfxAcc\n",
      "        99.1.1.1         4  65001              2         3    0    0 20:12:59 Connect        \n",
      "        170.0.0.3        4  64610            657      1272    0    0 20:12:59 Connect        \n",
      "        170.1.0.3        4  64610          10849      1607    0    0 19:20:02 Estab  223    223\n",
      "        170.2.0.3        4  64610            503       997    0    0 20:12:59 Connect        \n",
      "        170.3.0.3        4  64610            501       997    0    0 20:12:59 Connect        \n",
      "        198.18.10.2      4  64510              0         0    0    0 20:12:59 Idle(NoIf)        \n"
     ]
    },
    {
     "name": "stderr",
     "output_type": "stream",
     "text": [
      "Response did not match any patterns"
     ]
    },
    {
     "name": "stdout",
     "output_type": "stream",
     "text": [
      "host: ck325.sjc.aristanetworks.com\n",
      "status: ok\n",
      "commands:\n",
      "  - command: show ip bgp summary\n",
      "    output: |\n",
      "      BGP summary information for VRF default\n",
      "      Router identifier 171.0.0.1, local AS number 64610\n",
      "      Neighbor Status Codes: m - Under maintenance\n",
      "        Neighbor         V  AS           MsgRcvd   MsgSent  InQ OutQ  Up/Down State  PfxRcd PfxAcc\n",
      "        169.1.0.0        4  64911           1446      1373    0    0 19:20:16 Estab  107    107\n",
      "        169.1.0.2        4  64911           1422      1509    0    0 19:20:13 Estab  107    107\n",
      "        169.1.0.4        4  64911           1416      1527    0    0 19:20:09 Estab  107    107\n",
      "        169.1.0.6        4  64911           1436      1526    0    0 19:20:16 Estab  107    107\n",
      "        169.1.0.8        4  64911           1421      1500    0    0 19:20:13 Estab  107    107\n",
      "        169.1.0.10       4  64911           1419      1504    0    0 19:20:09 Estab  107    107\n",
      "        169.1.0.12       4  64911           1435      1526    0    0 19:20:16 Estab  107    107\n",
      "        169.1.0.14       4  64911           1420      1515    0    0 19:20:13 Estab  107    107\n",
      "        169.2.0.0        4  65534           1442      1373    0    0 19:20:07 Estab  119    119\n",
      "        169.2.0.2        4  65534           1460      1406    0    0 19:20:16 Estab  119    119\n",
      "        169.2.0.4        4  65534           1478      1386    0    0 19:20:13 Estab  119    119\n",
      "        169.2.0.6        4  65534           1447      1374    0    0 19:20:07 Estab  119    119\n",
      "        169.2.0.8        4  65534           1474      1410    0    0 19:20:16 Estab  119    119\n",
      "        169.2.0.10       4  65534           1454      1386    0    0 19:20:13 Estab  119    119\n",
      "        169.2.0.12       4  65534           1417      1376    0    0 19:20:08 Estab  119    119\n",
      "        169.2.0.14       4  65534           1465      1408    0    0 19:20:16 Estab  119    119\n",
      "        170.0.0.0        4  65001              0         0    0    0 19:20:18 Idle(NoIf)        \n",
      "        170.0.0.2        4  65001            477       954    0    0 19:20:18 Active        \n"
     ]
    }
   ],
   "source": [
    "%%sdsend poda -t non-existent\\sstring\n",
    "show ip bgp summary"
   ]
  },
  {
   "cell_type": "markdown",
   "metadata": {},
   "source": [
    "### Bash on switch..."
   ]
  },
  {
   "cell_type": "code",
   "execution_count": 8,
   "metadata": {
    "collapsed": false
   },
   "outputs": [
    {
     "name": "stdout",
     "output_type": "stream",
     "text": [
      "host: ck214.sjc.aristanetworks.com\n",
      "status: ok\n",
      "commands:\n",
      "  - command: bash timeout 5 ps -ef | grep Sand\n",
      "    output: |\n",
      "      admin    27118 10602  0 19:00 ?        00:00:00 /bin/bash -c timeout -k3 5 ps -ef | grep Sand\n",
      "      admin    27121 27118  0 19:00 ?        00:00:00 grep Sand\n"
     ]
    }
   ],
   "source": [
    "%%sdsend dut\n",
    "bash timeout 5 ps -ef | grep Sand"
   ]
  },
  {
   "cell_type": "markdown",
   "metadata": {},
   "source": [
    "### Bash"
   ]
  },
  {
   "cell_type": "code",
   "execution_count": 9,
   "metadata": {
    "collapsed": false
   },
   "outputs": [
    {
     "name": "stdout",
     "output_type": "stream",
     "text": [
      "Linux ubuntu-xenial 4.4.0-59-generic #80-Ubuntu SMP Fri Jan 6 17:36:54 UTC 2017 i686 i686 i686 GNU/Linux\n"
     ]
    }
   ],
   "source": [
    "%%bash\n",
    "uname -a"
   ]
  },
  {
   "cell_type": "markdown",
   "metadata": {},
   "source": [
    "### Escaping to python..."
   ]
  },
  {
   "cell_type": "code",
   "execution_count": 10,
   "metadata": {
    "collapsed": false
   },
   "outputs": [
    {
     "name": "stdout",
     "output_type": "stream",
     "text": [
      "{'duts': [{'hostname': 'ck214.sjc.aristanetworks.com',\n",
      "           'password': 'none',\n",
      "           'tags': ['dut', 'tor', 'poda'],\n",
      "           'username': 'admin'},\n",
      "          {'hostname': 'ck325.sjc.aristanetworks.com',\n",
      "           'password': 'none',\n",
      "           'tags': ['csp', 'poda'],\n",
      "           'username': 'admin'}],\n",
      " 'interfaces': ['Ethernet10/1',\n",
      "                'Ethernet11/1',\n",
      "                'Ethernet12/1',\n",
      "                'Ethernet13/1',\n",
      "                'Ethernet14/1']}\n",
      "\n",
      "==================\n",
      "\n",
      "host: ck214.sjc.aristanetworks.com\n",
      "status: ok\n",
      "commands:\n",
      "  - command: show version\n",
      "    output: |\n",
      "      Arista DCS-7050QX-32S-F\n",
      "      Hardware version:    01.10\n",
      "      Serial number:       JPE14170543\n",
      "      System MAC address:  001c.737b.5357\n",
      "      \n",
      "      Software image version: 4.16.7M-L2EVPN\n",
      "      Architecture:           i386\n",
      "      Internal build version: 4.16.7M-L2EVPN-3413524.4167ML2EVPN\n",
      "      Internal build ID:      5feeb941-9cdd-4a1e-9699-0df40a518df6\n",
      "      \n",
      "      Uptime:                 2 days, 12 hours and 7 minutes\n",
      "      Total memory:           3584260 kB\n",
      "      Free memory:            103284 kB\n",
      "      \n"
     ]
    }
   ],
   "source": [
    "import pprint \n",
    "pprint.pprint(_sdconfig)\n",
    "print('\\n==================\\n')\n",
    "print(_sdconnections['ck214.sjc.aristanetworks.com'][\"conn\"].send(\"show version\"))"
   ]
  },
  {
   "cell_type": "code",
   "execution_count": null,
   "metadata": {
    "collapsed": true
   },
   "outputs": [],
   "source": []
  }
 ],
 "metadata": {
  "kernelspec": {
   "display_name": "Python 3",
   "language": "python",
   "name": "python3"
  },
  "language_info": {
   "codemirror_mode": {
    "name": "ipython",
    "version": 3
   },
   "file_extension": ".py",
   "mimetype": "text/x-python",
   "name": "python",
   "nbconvert_exporter": "python",
   "pygments_lexer": "ipython3",
   "version": "3.5.2"
  }
 },
 "nbformat": 4,
 "nbformat_minor": 2
}
