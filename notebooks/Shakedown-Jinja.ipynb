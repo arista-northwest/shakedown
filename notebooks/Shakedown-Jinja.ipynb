{
 "cells": [
  {
   "cell_type": "code",
   "execution_count": 1,
   "metadata": {
    "collapsed": false
   },
   "outputs": [],
   "source": [
    "%%sdconfig\n",
    "interface: Ethernet5\n",
    "duts:\n",
    "  - hostname: ck214.sjc.aristanetworks.com\n",
    "    username: admin\n",
    "    password: none\n",
    "    tags: [dut, tor, poda]\n",
    "  - hostname: ck325.sjc.aristanetworks.com\n",
    "    username: admin\n",
    "    password: none\n",
    "    tags: [sdut, csp, poda]"
   ]
  },
  {
   "cell_type": "code",
   "execution_count": 2,
   "metadata": {
    "collapsed": true
   },
   "outputs": [],
   "source": [
    "%sdconnect?"
   ]
  },
  {
   "cell_type": "code",
   "execution_count": 3,
   "metadata": {
    "collapsed": false
   },
   "outputs": [],
   "source": [
    "%sdconnect --clear --section duts"
   ]
  },
  {
   "cell_type": "code",
   "execution_count": 4,
   "metadata": {
    "collapsed": false
   },
   "outputs": [
    {
     "name": "stdout",
     "output_type": "stream",
     "text": [
      "host: ck214.sjc.aristanetworks.com\n",
      "status: ok\n",
      "commands:\n",
      "  - command: show ip interface brief\n",
      "    output: |\n",
      "      Interface              IP Address         Status     Protocol         MTU\n",
      "      Ethernet6/1            198.18.10.1/24     down       down            1500\n",
      "      Ethernet22/1           12.1.1.0/31        down       notpresent      1500\n",
      "      Ethernet25/1           10.10.10.1/24      up         up              1500\n",
      "      Loopback0              4.4.4.4/32         up         up             65535\n",
      "      Loopback10             unassigned         up         up             65535\n",
      "      Loopback151            151.0.0.1/30       up         up             65535\n",
      "      Loopback200            200.1.1.1/32       up         up             65535\n",
      "      Management1            172.28.131.183/20  up         up              1500\n",
      "      Port-Channel11         unassigned         down       lowerlayerdown  1500\n",
      "      Port-Channel21         170.0.0.2/31       up         up              1500\n",
      "      Port-Channel22         170.1.0.2/31       up         up              1500\n",
      "      Port-Channel23         170.2.0.2/31       up         up              1500\n",
      "      Port-Channel24         170.3.0.2/31       up         up              1500\n",
      "      Vlan1                  10.0.0.150/24      up         up              1500\n",
      "      Vlan10                 40.40.40.1/24      up         up              1500\n",
      "      Vlan111                unassigned         down       lowerlayerdown  1500\n",
      "      Vlan2002               11.0.0.1/24        down       lowerlayerdown  1500\n",
      "host: ck325.sjc.aristanetworks.com\n",
      "status: ok\n",
      "commands:\n",
      "  - command: show ip interface brief\n",
      "    output: |\n",
      "      Interface              IP Address         Status     Protocol         MTU\n",
      "      Ethernet5/1            192.168.16.2/30    down       notpresent      1500\n",
      "      Ethernet6/1            unassigned         down       notpresent      1500\n",
      "      Ethernet7/1            unassigned         down       notpresent      1500\n",
      "      Ethernet8/1            unassigned         down       notpresent      1500\n",
      "      Ethernet28/1           unassigned         down       notpresent      1500\n",
      "      Ethernet28/2           unassigned         down       notpresent      1500\n",
      "      Ethernet28/3           unassigned         down       notpresent      1500\n",
      "      Ethernet28/4           unassigned         down       notpresent      1500\n",
      "      Ethernet30             unassigned         admin down notpresent      1500\n",
      "      Ethernet32             192.168.1.2/24     admin down notpresent      1500\n",
      "      Ethernet34             unassigned         admin down notpresent      1500\n",
      "      Ethernet35             unassigned         admin down notpresent      1500\n",
      "      Ethernet36             unassigned         admin down notpresent      1500\n",
      "      Loopback0              99.99.99.1/32      up         up             65535\n",
      "      Loopback1              1.1.1.7/32         up         up             65535\n",
      "      Loopback171            171.0.0.1/32       up         up             65535\n",
      "      Management1            172.28.131.178/20  up         up              1500\n",
      "      Port-Channel10         170.0.0.1/31       down       lowerlayerdown  9100\n",
      "      Port-Channel11         170.0.0.3/31       up         up              9100\n",
      "      Port-Channel600        169.1.0.1/31       up         up              1500\n",
      "      Port-Channel601        169.1.0.3/31       up         up              1500\n",
      "      Port-Channel602        169.1.0.5/31       up         up              1500\n",
      "      Port-Channel603        169.1.0.7/31       up         up              1500\n",
      "      Port-Channel604        169.1.0.9/31       up         up              1500\n",
      "      Port-Channel605        169.1.0.11/31      up         up              1500\n",
      "      Port-Channel606        169.1.0.13/31      up         up              1500\n",
      "      Port-Channel607        169.1.0.15/31      up         up              1500\n",
      "      Port-Channel610        169.2.0.1/31       up         up              9178\n",
      "      Port-Channel611        169.2.0.3/31       up         up              1500\n",
      "      Port-Channel612        169.2.0.5/31       up         up              1500\n",
      "      Port-Channel613        169.2.0.7/31       up         up              1500\n",
      "      Port-Channel614        169.2.0.9/31       up         up              1500\n",
      "      Port-Channel615        169.2.0.11/31      up         up              1500\n",
      "      Port-Channel616        169.2.0.13/31      up         up              1500\n",
      "      Port-Channel617        169.2.0.15/31      up         up              1500\n",
      "      Vlan111                unassigned         down       lowerlayerdown  9100\n",
      "      Vlan150                10.10.10.100/24    down       lowerlayerdown  1500\n",
      "      Vlan500                5.5.5.5/24         down       lowerlayerdown  1500\n",
      "      Vlan4094               unassigned         down       lowerlayerdown  1500\n"
     ]
    },
    {
     "data": {
      "text/plain": [
       "[<ResponseStore [ok]>, <ResponseStore [ok]>]"
      ]
     },
     "execution_count": 4,
     "metadata": {},
     "output_type": "execute_result"
    }
   ],
   "source": [
    "%%sdsend poda\n",
    "show ip interface brief"
   ]
  },
  {
   "cell_type": "markdown",
   "metadata": {},
   "source": [
    "### Escaping to python..."
   ]
  },
  {
   "cell_type": "code",
   "execution_count": 5,
   "metadata": {
    "collapsed": false
   },
   "outputs": [
    {
     "name": "stdout",
     "output_type": "stream",
     "text": [
      "{'duts': [{'hostname': 'ck214.sjc.aristanetworks.com',\n",
      "           'password': 'none',\n",
      "           'tags': ['dut', 'tor', 'poda'],\n",
      "           'username': 'admin'},\n",
      "          {'hostname': 'ck325.sjc.aristanetworks.com',\n",
      "           'password': 'none',\n",
      "           'tags': ['sdut', 'csp', 'poda'],\n",
      "           'username': 'admin'}],\n",
      " 'interface': 'Ethernet5'}\n",
      "\n",
      "==================\n",
      "\n",
      "host: ck214.sjc.aristanetworks.com\n",
      "status: ok\n",
      "commands:\n",
      "  - command: show version\n",
      "    output: |\n",
      "      Arista DCS-7050QX-32S-F\n",
      "      Hardware version:    01.10\n",
      "      Serial number:       JPE14170543\n",
      "      System MAC address:  001c.737b.5357\n",
      "      \n",
      "      Software image version: 4.17.2F\n",
      "      Architecture:           i386\n",
      "      Internal build version: 4.17.2F-3696283.4172F\n",
      "      Internal build ID:      08f7e0b5-5ea2-41d2-87bf-1c02d5ab1da7\n",
      "      \n",
      "      Uptime:                 7 weeks, 0 days, 18 hours and 39 minutes\n",
      "      Total memory:           3538144 kB\n",
      "      Free memory:            591132 kB\n",
      "      \n"
     ]
    }
   ],
   "source": [
    "import pprint \n",
    "pprint.pprint(_sdconfig)\n",
    "print('\\n==================\\n')\n",
    "print(_sdconnections['ck214.sjc.aristanetworks.com'][\"conn\"].send(\"show version\"))"
   ]
  },
  {
   "cell_type": "code",
   "execution_count": null,
   "metadata": {
    "collapsed": true
   },
   "outputs": [],
   "source": []
  }
 ],
 "metadata": {
  "kernelspec": {
   "display_name": "Python 3",
   "language": "python",
   "name": "python3"
  },
  "language_info": {
   "codemirror_mode": {
    "name": "ipython",
    "version": 3
   },
   "file_extension": ".py",
   "mimetype": "text/x-python",
   "name": "python",
   "nbconvert_exporter": "python",
   "pygments_lexer": "ipython3",
   "version": "3.5.2"
  }
 },
 "nbformat": 4,
 "nbformat_minor": 2
}
