{
 "cells": [
  {
   "cell_type": "code",
   "execution_count": 533,
   "metadata": {
    "collapsed": false
   },
   "outputs": [],
   "source": [
    "%reload_ext shakedown.ipython.magics"
   ]
  },
  {
   "cell_type": "code",
   "execution_count": 549,
   "metadata": {
    "collapsed": false
   },
   "outputs": [],
   "source": [
    "%%sdconfig\n",
    "interfaces:\n",
    "    - Ethernet10/1\n",
    "    - Ethernet11/1\n",
    "    - Ethernet12/1\n",
    "    - Ethernet13/1\n",
    "    - Ethernet14/1\n",
    "duts:\n",
    "  - hostname: ck214.sjc.aristanetworks.com\n",
    "    username: admin\n",
    "    password: none\n",
    "    tags: [dut, tor, poda]\n",
    "  - hostname: ck325.sjc.aristanetworks.com\n",
    "    username: admin\n",
    "    password: none\n",
    "    tags: [csp, poda]"
   ]
  },
  {
   "cell_type": "code",
   "execution_count": 550,
   "metadata": {
    "collapsed": false
   },
   "outputs": [],
   "source": [
    "%sdconnect --clear --section duts"
   ]
  },
  {
   "cell_type": "code",
   "execution_count": 551,
   "metadata": {
    "collapsed": false
   },
   "outputs": [
    {
     "name": "stdout",
     "output_type": "stream",
     "text": [
      "host: ck214.sjc.aristanetworks.com\n",
      "status: ok\n",
      "commands:\n",
      "  - command: show version\n",
      "    output: |\n",
      "      Arista DCS-7050QX-32S-F\n",
      "      Hardware version:    01.10\n",
      "      Serial number:       JPE14170543\n",
      "      System MAC address:  001c.737b.5357\n",
      "      \n",
      "      Software image version: 4.16.7M-L2EVPN\n",
      "      Architecture:           i386\n",
      "      Internal build version: 4.16.7M-L2EVPN-3413524.4167ML2EVPN\n",
      "      Internal build ID:      5feeb941-9cdd-4a1e-9699-0df40a518df6\n",
      "      \n",
      "      Uptime:                 1 day, 11 hours and 22 minutes\n",
      "      Total memory:           3584260 kB\n",
      "      Free memory:            112988 kB\n",
      "      \n",
      "host: ck325.sjc.aristanetworks.com\n",
      "status: ok\n",
      "commands:\n",
      "  - command: show version\n",
      "    output: |\n",
      "      Arista DCS-7050QX-32S-F\n",
      "      Hardware version:    01.10\n",
      "      Serial number:       JPE14332885\n",
      "      System MAC address:  001c.737c.ca1b\n",
      "      \n",
      "      Software image version: 4.17.2F\n",
      "      Architecture:           i386\n",
      "      Internal build version: 4.17.2F-3696283.4172F\n",
      "      Internal build ID:      08f7e0b5-5ea2-41d2-87bf-1c02d5ab1da7\n",
      "      \n",
      "      Uptime:                 1 day, 11 hours and 22 minutes\n",
      "      Total memory:           3538144 kB\n",
      "      Free memory:            1659656 kB\n",
      "      \n"
     ]
    },
    {
     "name": "stderr",
     "output_type": "stream",
     "text": [
      "Response did not match any patterns"
     ]
    }
   ],
   "source": [
    "%%sdsend poda -t version:\\s+4.16.7\n",
    "show version"
   ]
  },
  {
   "cell_type": "markdown",
   "metadata": {},
   "source": [
    "### Jinja Templates"
   ]
  },
  {
   "cell_type": "code",
   "execution_count": 552,
   "metadata": {
    "collapsed": false
   },
   "outputs": [
    {
     "name": "stdout",
     "output_type": "stream",
     "text": [
      "host: ck214.sjc.aristanetworks.com\n",
      "status: ok\n",
      "commands:\n",
      "  - command: configure\n",
      "    output: |\n",
      "\n",
      "  - command: interface Ethernet10/1\n",
      "    output: |\n",
      "\n",
      "  - command: show active\n",
      "    output: |\n",
      "      interface Ethernet10/1\n",
      "         speed forced 40gfull\n",
      "  - command: interface Ethernet11/1\n",
      "    output: |\n",
      "\n",
      "  - command: show active\n",
      "    output: |\n",
      "      interface Ethernet11/1\n",
      "         speed forced 40gfull\n",
      "  - command: interface Ethernet12/1\n",
      "    output: |\n",
      "\n",
      "  - command: show active\n",
      "    output: |\n",
      "      interface Ethernet12/1\n",
      "         speed forced 40gfull\n",
      "  - command: interface Ethernet13/1\n",
      "    output: |\n",
      "\n",
      "  - command: show active\n",
      "    output: |\n",
      "      interface Ethernet13/1\n",
      "         speed forced 40gfull\n",
      "  - command: interface Ethernet14/1\n",
      "    output: |\n",
      "\n",
      "  - command: show active\n",
      "    output: |\n",
      "      interface Ethernet14/1\n",
      "         speed forced 40gfull\n"
     ]
    }
   ],
   "source": [
    "%%sdsend tor\n",
    "configure\n",
    "{% for intf in interfaces %}\n",
    "interface {{intf}}\n",
    "show active\n",
    "{% endfor %}"
   ]
  },
  {
   "cell_type": "markdown",
   "metadata": {},
   "source": [
    "### Check for patterns in output"
   ]
  },
  {
   "cell_type": "code",
   "execution_count": 558,
   "metadata": {
    "collapsed": false
   },
   "outputs": [
    {
     "name": "stdout",
     "output_type": "stream",
     "text": [
      "host: ck214.sjc.aristanetworks.com\n",
      "status: ok\n",
      "commands:\n",
      "  - command: show ip bgp summary\n",
      "    output: |\n",
      "      BGP summary information for VRF default\n",
      "      Router identifier 200.1.1.1, local AS number 65002\n",
      "      Neighbor Status Codes: m - Under maintenance\n",
      "        Neighbor         V  AS           MsgRcvd   MsgSent  InQ OutQ  Up/Down State  PfxRcd PfxAcc\n",
      "        99.1.1.1         4  65001           1508      1508    0    0    1d11h Connect        \n",
      "        170.0.0.3        4  64610            906      1777    0    0    1d11h Connect        \n",
      "        170.1.0.3        4  64610           2165      2494    0    0    1d11h Estab  223    223\n",
      "        170.2.0.3        4  64610            902      1768    0    0    1d11h Connect        \n",
      "        170.3.0.3        4  64610            898      1769    0    0    1d11h Connect        \n",
      "        198.18.10.2      4  64510              0         0    0    0    1d11h Idle(NoIf)        \n"
     ]
    },
    {
     "name": "stderr",
     "output_type": "stream",
     "text": [
      "Response did not match any patterns"
     ]
    }
   ],
   "source": [
    "%%sdsend dut -t 198.18.10.3\n",
    "show ip bgp summary"
   ]
  },
  {
   "cell_type": "markdown",
   "metadata": {},
   "source": [
    "### Escaping to python..."
   ]
  },
  {
   "cell_type": "code",
   "execution_count": 204,
   "metadata": {
    "collapsed": false
   },
   "outputs": [
    {
     "name": "stdout",
     "output_type": "stream",
     "text": [
      "{'duts': [{'hostname': 'ck214.sjc.aristanetworks.com',\n",
      "           'password': 'none',\n",
      "           'tags': ['sdf', 'tor', 'poda'],\n",
      "           'username': 'admin'}],\n",
      " 'interface': 'Ethernet2'}\n",
      "\n",
      "==================\n",
      "\n",
      "host: ck214.sjc.aristanetworks.com\n",
      "status: ok\n",
      "commands:\n",
      "  - command: show version\n",
      "    output: |\n",
      "      Arista DCS-7050QX-32S-F\n",
      "      Hardware version:    01.10\n",
      "      Serial number:       JPE14170543\n",
      "      System MAC address:  001c.737b.5357\n",
      "      \n",
      "      Software image version: 4.16.7M-L2EVPN\n",
      "      Architecture:           i386\n",
      "      Internal build version: 4.16.7M-L2EVPN-3413524.4167ML2EVPN\n",
      "      Internal build ID:      5feeb941-9cdd-4a1e-9699-0df40a518df6\n",
      "      \n",
      "      Uptime:                 1 week, 0 days, 5 hours and 47 minutes\n",
      "      Total memory:           3584260 kB\n",
      "      Free memory:            203316 kB\n",
      "      \n"
     ]
    }
   ],
   "source": [
    "import pprint \n",
    "pprint.pprint(_sdconfig)\n",
    "print('\\n==================\\n')\n",
    "print(_sdconnections['ck214.sjc.aristanetworks.com'][\"conn\"].send(\"show version\"))"
   ]
  },
  {
   "cell_type": "code",
   "execution_count": null,
   "metadata": {
    "collapsed": true
   },
   "outputs": [],
   "source": []
  }
 ],
 "metadata": {
  "kernelspec": {
   "display_name": "Python 3",
   "language": "python",
   "name": "python3"
  },
  "language_info": {
   "codemirror_mode": {
    "name": "ipython",
    "version": 3
   },
   "file_extension": ".py",
   "mimetype": "text/x-python",
   "name": "python",
   "nbconvert_exporter": "python",
   "pygments_lexer": "ipython3",
   "version": "3.5.2"
  }
 },
 "nbformat": 4,
 "nbformat_minor": 2
}
